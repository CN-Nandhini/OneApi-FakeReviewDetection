{
 "cells": [
  {
   "cell_type": "code",
   "execution_count": 2,
   "id": "d88f568a-45ba-4e99-8289-c393ba0d7a32",
   "metadata": {},
   "outputs": [],
   "source": [
    "import pandas as pd, numpy as np\n",
    "from sklearn.model_selection import train_test_split\n",
    "from sklearn.linear_model import LogisticRegression\n",
    "from sklearn.feature_extraction.text import CountVectorizer, TfidfVectorizer\n",
    "from sklearn.metrics import classification_report, confusion_matrix, accuracy_score\n"
   ]
  },
  {
   "cell_type": "markdown",
   "id": "463787ed-acbe-4019-a4fb-fdbb7a660a95",
   "metadata": {},
   "source": [
    "# Loading the Dataset  "
   ]
  },
  {
   "cell_type": "code",
   "execution_count": 3,
   "id": "d249f1b4-5388-466c-9d7d-c8b325fa7504",
   "metadata": {},
   "outputs": [],
   "source": [
    "encoded_label_dict = {\"CG\" : 0, \"OR\" : 1}\n",
    "def encode_label(x):\n",
    "    return encoded_label_dict.get(x,-1)"
   ]
  },
  {
   "cell_type": "code",
   "execution_count": 4,
   "id": "4969bf54-18bd-40f9-a794-c14894f034de",
   "metadata": {},
   "outputs": [],
   "source": [
    "df = pd.read_csv(\"Preprocessed Fake Reviews Detection Dataset.csv\")"
   ]
  },
  {
   "cell_type": "code",
   "execution_count": 5,
   "id": "703035e2-226b-42f2-8fb6-e6e7f580f3bf",
   "metadata": {},
   "outputs": [],
   "source": [
    "df.drop('Unnamed: 0',axis=1,inplace=True)\n",
    "df.dropna(inplace=True)"
   ]
  },
  {
   "cell_type": "markdown",
   "id": "697d4fbe-4ab6-41b4-970c-eb98a01ac7bc",
   "metadata": {},
   "source": [
    "# Displaying the contents of the Dataset "
   ]
  },
  {
   "cell_type": "code",
   "execution_count": 6,
   "id": "722af9df-5d78-4503-8620-e0509f846fa6",
   "metadata": {},
   "outputs": [
    {
     "data": {
      "text/html": [
       "<div>\n",
       "<style scoped>\n",
       "    .dataframe tbody tr th:only-of-type {\n",
       "        vertical-align: middle;\n",
       "    }\n",
       "\n",
       "    .dataframe tbody tr th {\n",
       "        vertical-align: top;\n",
       "    }\n",
       "\n",
       "    .dataframe thead th {\n",
       "        text-align: right;\n",
       "    }\n",
       "</style>\n",
       "<table border=\"1\" class=\"dataframe\">\n",
       "  <thead>\n",
       "    <tr style=\"text-align: right;\">\n",
       "      <th></th>\n",
       "      <th>category</th>\n",
       "      <th>rating</th>\n",
       "      <th>label</th>\n",
       "      <th>text_</th>\n",
       "    </tr>\n",
       "  </thead>\n",
       "  <tbody>\n",
       "    <tr>\n",
       "      <th>0</th>\n",
       "      <td>Home_and_Kitchen_5</td>\n",
       "      <td>5.0</td>\n",
       "      <td>CG</td>\n",
       "      <td>love well made sturdi comfort i love veri pretti</td>\n",
       "    </tr>\n",
       "    <tr>\n",
       "      <th>1</th>\n",
       "      <td>Home_and_Kitchen_5</td>\n",
       "      <td>5.0</td>\n",
       "      <td>CG</td>\n",
       "      <td>love great upgrad origin i 've mine coupl year</td>\n",
       "    </tr>\n",
       "    <tr>\n",
       "      <th>2</th>\n",
       "      <td>Home_and_Kitchen_5</td>\n",
       "      <td>5.0</td>\n",
       "      <td>CG</td>\n",
       "      <td>thi pillow save back i love look feel pillow</td>\n",
       "    </tr>\n",
       "    <tr>\n",
       "      <th>3</th>\n",
       "      <td>Home_and_Kitchen_5</td>\n",
       "      <td>1.0</td>\n",
       "      <td>CG</td>\n",
       "      <td>miss inform use great product price i</td>\n",
       "    </tr>\n",
       "    <tr>\n",
       "      <th>4</th>\n",
       "      <td>Home_and_Kitchen_5</td>\n",
       "      <td>5.0</td>\n",
       "      <td>CG</td>\n",
       "      <td>veri nice set good qualiti we set two month</td>\n",
       "    </tr>\n",
       "  </tbody>\n",
       "</table>\n",
       "</div>"
      ],
      "text/plain": [
       "             category  rating label  \\\n",
       "0  Home_and_Kitchen_5     5.0    CG   \n",
       "1  Home_and_Kitchen_5     5.0    CG   \n",
       "2  Home_and_Kitchen_5     5.0    CG   \n",
       "3  Home_and_Kitchen_5     1.0    CG   \n",
       "4  Home_and_Kitchen_5     5.0    CG   \n",
       "\n",
       "                                              text_  \n",
       "0  love well made sturdi comfort i love veri pretti  \n",
       "1    love great upgrad origin i 've mine coupl year  \n",
       "2      thi pillow save back i love look feel pillow  \n",
       "3             miss inform use great product price i  \n",
       "4       veri nice set good qualiti we set two month  "
      ]
     },
     "execution_count": 6,
     "metadata": {},
     "output_type": "execute_result"
    }
   ],
   "source": [
    "df.head()\n"
   ]
  },
  {
   "cell_type": "markdown",
   "id": "253e386c-27a6-4f46-be78-1e7b31f9d75e",
   "metadata": {},
   "source": [
    "# Add the Review length as one field"
   ]
  },
  {
   "cell_type": "code",
   "execution_count": 7,
   "id": "544b7928-1082-4e1a-a14a-ddf77eea67f9",
   "metadata": {},
   "outputs": [],
   "source": [
    "df['length'] = df['text_'].apply(len)\n",
    "df[\"target\"] = df[\"label\"].apply(lambda x: encode_label(x))"
   ]
  },
  {
   "cell_type": "code",
   "execution_count": 8,
   "id": "128ffc04-e624-46eb-96f9-372105f3faee",
   "metadata": {},
   "outputs": [
    {
     "data": {
      "text/html": [
       "<div>\n",
       "<style scoped>\n",
       "    .dataframe tbody tr th:only-of-type {\n",
       "        vertical-align: middle;\n",
       "    }\n",
       "\n",
       "    .dataframe tbody tr th {\n",
       "        vertical-align: top;\n",
       "    }\n",
       "\n",
       "    .dataframe thead th {\n",
       "        text-align: right;\n",
       "    }\n",
       "</style>\n",
       "<table border=\"1\" class=\"dataframe\">\n",
       "  <thead>\n",
       "    <tr style=\"text-align: right;\">\n",
       "      <th></th>\n",
       "      <th>category</th>\n",
       "      <th>rating</th>\n",
       "      <th>label</th>\n",
       "      <th>text_</th>\n",
       "      <th>length</th>\n",
       "      <th>target</th>\n",
       "    </tr>\n",
       "  </thead>\n",
       "  <tbody>\n",
       "    <tr>\n",
       "      <th>0</th>\n",
       "      <td>Home_and_Kitchen_5</td>\n",
       "      <td>5.0</td>\n",
       "      <td>CG</td>\n",
       "      <td>love well made sturdi comfort i love veri pretti</td>\n",
       "      <td>48</td>\n",
       "      <td>0</td>\n",
       "    </tr>\n",
       "    <tr>\n",
       "      <th>1</th>\n",
       "      <td>Home_and_Kitchen_5</td>\n",
       "      <td>5.0</td>\n",
       "      <td>CG</td>\n",
       "      <td>love great upgrad origin i 've mine coupl year</td>\n",
       "      <td>46</td>\n",
       "      <td>0</td>\n",
       "    </tr>\n",
       "    <tr>\n",
       "      <th>2</th>\n",
       "      <td>Home_and_Kitchen_5</td>\n",
       "      <td>5.0</td>\n",
       "      <td>CG</td>\n",
       "      <td>thi pillow save back i love look feel pillow</td>\n",
       "      <td>44</td>\n",
       "      <td>0</td>\n",
       "    </tr>\n",
       "    <tr>\n",
       "      <th>3</th>\n",
       "      <td>Home_and_Kitchen_5</td>\n",
       "      <td>1.0</td>\n",
       "      <td>CG</td>\n",
       "      <td>miss inform use great product price i</td>\n",
       "      <td>37</td>\n",
       "      <td>0</td>\n",
       "    </tr>\n",
       "    <tr>\n",
       "      <th>4</th>\n",
       "      <td>Home_and_Kitchen_5</td>\n",
       "      <td>5.0</td>\n",
       "      <td>CG</td>\n",
       "      <td>veri nice set good qualiti we set two month</td>\n",
       "      <td>43</td>\n",
       "      <td>0</td>\n",
       "    </tr>\n",
       "  </tbody>\n",
       "</table>\n",
       "</div>"
      ],
      "text/plain": [
       "             category  rating label  \\\n",
       "0  Home_and_Kitchen_5     5.0    CG   \n",
       "1  Home_and_Kitchen_5     5.0    CG   \n",
       "2  Home_and_Kitchen_5     5.0    CG   \n",
       "3  Home_and_Kitchen_5     1.0    CG   \n",
       "4  Home_and_Kitchen_5     5.0    CG   \n",
       "\n",
       "                                              text_  length  target  \n",
       "0  love well made sturdi comfort i love veri pretti      48       0  \n",
       "1    love great upgrad origin i 've mine coupl year      46       0  \n",
       "2      thi pillow save back i love look feel pillow      44       0  \n",
       "3             miss inform use great product price i      37       0  \n",
       "4       veri nice set good qualiti we set two month      43       0  "
      ]
     },
     "execution_count": 8,
     "metadata": {},
     "output_type": "execute_result"
    }
   ],
   "source": [
    "df.head()"
   ]
  },
  {
   "cell_type": "markdown",
   "id": "cd522872-efd4-4e06-9152-7d117bf0a994",
   "metadata": {},
   "source": [
    "# Statistics about the length of the review"
   ]
  },
  {
   "cell_type": "code",
   "execution_count": 9,
   "id": "32aaea0d-8231-425e-9a5e-691e265bf66b",
   "metadata": {},
   "outputs": [
    {
     "name": "stderr",
     "output_type": "stream",
     "text": [
      "/home/u188274/tmp/ipykernel_2806628/120245119.py:6: UserWarning: \n",
      "\n",
      "`distplot` is a deprecated function and will be removed in seaborn v0.14.0.\n",
      "\n",
      "Please adapt your code to use either `displot` (a figure-level function with\n",
      "similar flexibility) or `histplot` (an axes-level function for histograms).\n",
      "\n",
      "For a guide to updating your code to use the new functions, please see\n",
      "https://gist.github.com/mwaskom/de44147ed2974457ad6372750bbe5751\n",
      "\n",
      "  sns.distplot(a=df[\"length\"], kde=False, bins=[0,10,25,50,75,100,125,150,175,200,225,250,275,300,325,350])\n"
     ]
    },
    {
     "data": {
      "text/plain": [
       "Text(0, 0.5, 'Number of Reviews')"
      ]
     },
     "execution_count": 9,
     "metadata": {},
     "output_type": "execute_result"
    },
    {
     "data": {
      "image/png": "[encoded data removed]",
      "text/plain": [
       "<Figure size 640x480 with 1 Axes>"
      ]
     },
     "metadata": {},
     "output_type": "display_data"
    }
   ],
   "source": [
    "%matplotlib inline\n",
    "from pathlib import Path\n",
    "import matplotlib.pyplot as plt\n",
    "import seaborn as sns\n",
    "\n",
    "sns.distplot(a=df[\"length\"], kde=False, bins=[0,10,25,50,75,100,125,150,175,200,225,250,275,300,325,350])\n",
    "plt.title(\"         Reviews sentence length distribution\")\n",
    "plt.xlabel(\"Sentence Length\")\n",
    "plt.ylabel(\"Number of Reviews\")"
   ]
  },
  {
   "cell_type": "markdown",
   "id": "74eb1878-28a9-40d7-8df2-de71a141bdf7",
   "metadata": {},
   "source": [
    "# Statistics about the Category Labels"
   ]
  },
  {
   "cell_type": "code",
   "execution_count": 10,
   "id": "87b93cfc-5318-42a6-88ef-e4e7ab063185",
   "metadata": {},
   "outputs": [
    {
     "data": {
      "text/plain": [
       "Text(0.5, 1.0, '        Review counts by categories')"
      ]
     },
     "execution_count": 10,
     "metadata": {},
     "output_type": "execute_result"
    },
    {
     "data": {
      "image/png": "[encoded data removed]",
      "text/plain": [
       "<Figure size 640x480 with 1 Axes>"
      ]
     },
     "metadata": {},
     "output_type": "display_data"
    }
   ],
   "source": [
    "sns.countplot(data=df, x=\"label\")\n",
    "plt.title(\"        Review counts by categories\")\n"
   ]
  },
  {
   "cell_type": "markdown",
   "id": "a24bf3f1-56ce-4725-8115-6d61eef4e2d7",
   "metadata": {},
   "source": [
    "# Statistics about the Category Types"
   ]
  },
  {
   "cell_type": "code",
   "execution_count": 11,
   "id": "19e6fc34-76c6-4f45-aad9-29c9052cb72b",
   "metadata": {},
   "outputs": [
    {
     "data": {
      "text/plain": [
       "Text(0.5, 1.0, '        Review counts by categories')"
      ]
     },
     "execution_count": 11,
     "metadata": {},
     "output_type": "execute_result"
    },
    {
     "data": {
      "image/png": "[encoded data removed]",
      "text/plain": [
       "<Figure size 640x480 with 1 Axes>"
      ]
     },
     "metadata": {},
     "output_type": "display_data"
    }
   ],
   "source": [
    "sns.countplot(data=df, y=\"category\")\n",
    "plt.title(\"        Review counts by categories\")"
   ]
  },
  {
   "cell_type": "markdown",
   "id": "3450bbd8-3a3e-40fb-8475-8269ea294362",
   "metadata": {},
   "source": [
    "# ** Splitting the train and test dataset **\n"
   ]
  },
  {
   "cell_type": "code",
   "execution_count": 12,
   "id": "e6e6bdcc-ed7d-49ae-81a4-5276582ab5f2",
   "metadata": {},
   "outputs": [],
   "source": [
    "train, test = train_test_split(df, test_size=0.2, shuffle=True, stratify=None, random_state=2021)\n"
   ]
  },
  {
   "cell_type": "code",
   "execution_count": 13,
   "id": "8ea97fc5-4e36-4e0e-9211-9b240d4f4816",
   "metadata": {},
   "outputs": [
    {
     "data": {
      "text/plain": [
       "(32344, 8087)"
      ]
     },
     "execution_count": 13,
     "metadata": {},
     "output_type": "execute_result"
    }
   ],
   "source": [
    "len(train),len(test)"
   ]
  },
  {
   "cell_type": "code",
   "execution_count": 14,
   "id": "e11329f2-6bda-4433-bd3c-9a592491e294",
   "metadata": {},
   "outputs": [],
   "source": [
    "COMMENT = 'text_'\n",
    "train[COMMENT].fillna(\"unknown\", inplace=True)\n",
    "test[COMMENT].fillna(\"unknown\", inplace=True)"
   ]
  },
  {
   "cell_type": "markdown",
   "id": "d2fe1b9a-e4a9-443d-9324-ad20b5adf6a4",
   "metadata": {},
   "source": [
    "#  ** Tokenize the String **"
   ]
  },
  {
   "cell_type": "code",
   "execution_count": 15,
   "id": "afa92d4e-9778-4574-99c2-e02d28228d12",
   "metadata": {},
   "outputs": [],
   "source": [
    "import re, string\n",
    "re_tok = re.compile(f'([{string.punctuation}“”¨«»®´·º½¾¿¡§£₤‘’])')\n",
    "def tokenize(s): return re_tok.sub(r' \\1 ', s).split()"
   ]
  },
  {
   "cell_type": "markdown",
   "id": "0bcbcaef-17e1-4780-9d8d-9bc043621f43",
   "metadata": {},
   "source": [
    "# ** TFIDFVecotorizer - feature extraction - converts the strings to numbers for processing  "
   ]
  },
  {
   "cell_type": "code",
   "execution_count": 16,
   "id": "16a2592c-19da-4171-9f99-5803e21eb48a",
   "metadata": {},
   "outputs": [
    {
     "name": "stderr",
     "output_type": "stream",
     "text": [
      "/home/u188274/.local/lib/python3.9/site-packages/sklearn/utils/_param_validation.py:558: FutureWarning: Passing an int for a boolean parameter is deprecated in version 1.2 and won't be supported anymore in version 1.4.\n",
      "  warnings.warn(\n",
      "/home/u188274/.local/lib/python3.9/site-packages/sklearn/feature_extraction/text.py:528: UserWarning: The parameter 'token_pattern' will not be used since 'tokenizer' is not None'\n",
      "  warnings.warn(\n",
      "/home/u188274/.local/lib/python3.9/site-packages/sklearn/feature_extraction/text.py:1682: RuntimeWarning: divide by zero encountered in true_divide\n",
      "  idf = np.log(n_samples / df) + 1\n"
     ]
    }
   ],
   "source": [
    "n = train.shape[0]\n",
    "vec = TfidfVectorizer(ngram_range=(1,2), tokenizer=tokenize,\n",
    "               min_df=3, max_df=0.9, strip_accents='unicode', use_idf=1,\n",
    "               smooth_idf=1, sublinear_tf=1 )\n",
    "trn_term_doc = vec.fit_transform(train[COMMENT])\n",
    "test_term_doc = vec.transform(test[COMMENT])"
   ]
  },
  {
   "cell_type": "code",
   "execution_count": 17,
   "id": "092f68fa-aa95-4286-bc91-fc4f799f892e",
   "metadata": {},
   "outputs": [],
   "source": [
    "def pr(y_i, y):\n",
    "    p = x[y==y_i].sum(0)\n",
    "    return (p+1) / ((y==y_i).sum()+1)"
   ]
  },
  {
   "cell_type": "code",
   "execution_count": 18,
   "id": "0aa5b11a-5ac4-42cd-9f0b-ffb25ce137d4",
   "metadata": {},
   "outputs": [],
   "source": [
    "x = trn_term_doc\n",
    "test_x = test_term_doc"
   ]
  },
  {
   "cell_type": "markdown",
   "id": "3fa45941-ff91-466a-a106-4e803a6404e8",
   "metadata": {},
   "source": [
    "# ** Multinomial Naive Bayes -- Patch Sklearn extension - makes the intel optimization  "
   ]
  },
  {
   "cell_type": "code",
   "execution_count": 34,
   "id": "d002b951-286d-410c-ae21-d4432f35e2ae",
   "metadata": {},
   "outputs": [
    {
     "name": "stdout",
     "output_type": "stream",
     "text": [
      "Time to calculate Multinomial Naive Bayes Algorithm Patched scikit-learn  0.0\u001b[0m seconds\n",
      "Classification Report:               precision    recall  f1-score   support\n",
      "\n",
      "           0       0.88      0.92      0.90      3998\n",
      "           1       0.92      0.88      0.90      4089\n",
      "\n",
      "    accuracy                           0.90      8087\n",
      "   macro avg       0.90      0.90      0.90      8087\n",
      "weighted avg       0.90      0.90      0.90      8087\n",
      "\n",
      "Confusion Matrix: [[3683  315]\n",
      " [ 480 3609]]\n",
      "Accuracy Score: 0.901694076913565\n",
      "Model Prediction Accuracy: 90.17%\n"
     ]
    },
    {
     "name": "stderr",
     "output_type": "stream",
     "text": [
      "Intel(R) Extension for Scikit-learn* enabled (https://github.com/intel/scikit-learn-intelex)\n"
     ]
    }
   ],
   "source": [
    "from sklearn.pipeline import Pipeline\n",
    "\n",
    "from sklearnex import patch_sklearn, unpatch_sklearn\n",
    "patch_sklearn()\n",
    "\n",
    "from sklearn.naive_bayes import MultinomialNB\n",
    "pipeline = Pipeline([\n",
    "    #('bow',CountVectorizer(analyzer=text_process)),\n",
    "    #('tfidf',TfidfTransformer()),\n",
    "    ('classifier',MultinomialNB())\n",
    "])\n",
    "\n",
    "import time\n",
    "\n",
    "start_time = time.time()\n",
    "pipeline.fit(trn_term_doc,train[\"target\"])\n",
    "predictions = pipeline.predict(test_term_doc)\n",
    "patched_time = time.time() - start_time\n",
    "print(\"Time to calculate Multinomial Naive Bayes Algorithm Patched scikit-learn {:4.1f}\\033[0m seconds\".format(patched_time))\n",
    "predictions\n",
    "\n",
    "print('Classification Report:',classification_report(test[\"target\"],predictions))\n",
    "print('Confusion Matrix:',confusion_matrix(test[\"target\"],predictions))\n",
    "print('Accuracy Score:',accuracy_score(test[\"target\"],predictions))\n",
    "print('Model Prediction Accuracy:',str(np.round(accuracy_score(test[\"target\"],predictions)*100,2)) + '%')"
   ]
  },
  {
   "cell_type": "markdown",
   "id": "834beffd-95bd-4393-a108-4bee227ce3fc",
   "metadata": {},
   "source": [
    "# ** Random Forest -- Patch Sklearn extension - makes the intel optimization  "
   ]
  },
  {
   "cell_type": "code",
   "execution_count": 39,
   "id": "d05b49b4-323d-40b3-8e7a-60db98ad6db5",
   "metadata": {},
   "outputs": [
    {
     "name": "stderr",
     "output_type": "stream",
     "text": [
      "Intel(R) Extension for Scikit-learn* enabled (https://github.com/intel/scikit-learn-intelex)\n",
      "/home/u188274/.local/lib/python3.9/site-packages/sklearn/ensemble/_forest.py:424: FutureWarning: `max_features='auto'` has been deprecated in 1.1 and will be removed in 1.3. To keep the past behaviour, explicitly set `max_features='sqrt'` or remove this parameter as it is also the default value for RandomForestClassifiers and ExtraTreesClassifiers.\n",
      "  warn(\n"
     ]
    },
    {
     "name": "stdout",
     "output_type": "stream",
     "text": [
      "Time to calculate Random Forest Algorithm Patched scikit-learn 68.5\u001b[0m seconds\n",
      "Classification Report:               precision    recall  f1-score   support\n",
      "\n",
      "           0       0.90      0.88      0.89      3998\n",
      "           1       0.89      0.91      0.90      4089\n",
      "\n",
      "    accuracy                           0.89      8087\n",
      "   macro avg       0.89      0.89      0.89      8087\n",
      "weighted avg       0.89      0.89      0.89      8087\n",
      "\n",
      "Confusion Matrix: [[3522  476]\n",
      " [ 386 3703]]\n",
      "Accuracy Score: 0.893409175219488\n",
      "Model Prediction Accuracy: 89.34%\n"
     ]
    }
   ],
   "source": [
    "from sklearnex import patch_sklearn, unpatch_sklearn\n",
    "patch_sklearn()\n",
    "\n",
    "from sklearn.ensemble import RandomForestClassifier\n",
    "\n",
    "pipeline = Pipeline([\n",
    "    #('bow',CountVectorizer(analyzer=text_process)),\n",
    "    #('tfidf',TfidfTransformer()),\n",
    "    ('classifier',RandomForestClassifier())\n",
    "])\n",
    "start_time = time.time()\n",
    "pipeline.fit(trn_term_doc,train[\"target\"])\n",
    "rfc_pred = pipeline.predict(test_term_doc)\n",
    "patched_time = time.time() - start_time\n",
    "print(\"Time to calculate Random Forest Algorithm Patched scikit-learn {:4.1f}\\033[0m seconds\".format(patched_time))\n",
    "rfc_pred\n",
    "print('Classification Report:',classification_report(test[\"target\"],rfc_pred))\n",
    "print('Confusion Matrix:',confusion_matrix(test[\"target\"],rfc_pred))\n",
    "print('Accuracy Score:',accuracy_score(test[\"target\"],rfc_pred))\n",
    "print('Model Prediction Accuracy:',str(np.round(accuracy_score(test[\"target\"],rfc_pred)*100,2)) + '%')"
   ]
  },
  {
   "cell_type": "markdown",
   "id": "2b526fb4-ac93-4cc2-a0ea-d85a0f29d0a0",
   "metadata": {},
   "source": [
    "# ** Random Forest -- unpatch Sklearn extension - without intel optimization  "
   ]
  },
  {
   "cell_type": "code",
   "execution_count": 37,
   "id": "2a407787-3057-420f-93a2-56e2950b05d5",
   "metadata": {},
   "outputs": [
    {
     "name": "stdout",
     "output_type": "stream",
     "text": [
      "Time to calculate Random Forest Algorithm Patched scikit-learn 69.1\u001b[0m seconds\n",
      "Classification Report:               precision    recall  f1-score   support\n",
      "\n",
      "           0       0.90      0.88      0.89      3998\n",
      "           1       0.88      0.91      0.89      4089\n",
      "\n",
      "    accuracy                           0.89      8087\n",
      "   macro avg       0.89      0.89      0.89      8087\n",
      "weighted avg       0.89      0.89      0.89      8087\n",
      "\n",
      "Confusion Matrix: [[3504  494]\n",
      " [ 384 3705]]\n",
      "Accuracy Score: 0.8914306912328428\n",
      "Model Prediction Accuracy: 89.14%\n"
     ]
    }
   ],
   "source": [
    "from sklearnex import patch_sklearn, unpatch_sklearn\n",
    "unpatch_sklearn()\n",
    "\n",
    "from sklearn.ensemble import RandomForestClassifier\n",
    "\n",
    "pipeline = Pipeline([\n",
    "    #('bow',CountVectorizer(analyzer=text_process)),\n",
    "    #('tfidf',TfidfTransformer()),\n",
    "    ('classifier',RandomForestClassifier())\n",
    "])\n",
    "start_time = time.time()\n",
    "pipeline.fit(trn_term_doc,train[\"target\"])\n",
    "rfc_pred = pipeline.predict(test_term_doc)\n",
    "patched_time = time.time() - start_time\n",
    "print(\"Time to calculate Random Forest Algorithm Patched scikit-learn {:4.1f}\\033[0m seconds\".format(patched_time))\n",
    "rfc_pred\n",
    "print('Classification Report:',classification_report(test[\"target\"],rfc_pred))\n",
    "print('Confusion Matrix:',confusion_matrix(test[\"target\"],rfc_pred))\n",
    "print('Accuracy Score:',accuracy_score(test[\"target\"],rfc_pred))\n",
    "print('Model Prediction Accuracy:',str(np.round(accuracy_score(test[\"target\"],rfc_pred)*100,2)) + '%')"
   ]
  },
  {
   "cell_type": "markdown",
   "id": "6a16e280-4ba8-4273-af93-f88bcf98f3a7",
   "metadata": {},
   "source": [
    "# ** XGBoost Classifier -- patch Sklearn extension - with intel optimization  "
   ]
  },
  {
   "cell_type": "code",
   "execution_count": 43,
   "id": "cd3ae1dc-ffa9-47de-91c4-2c507febaab0",
   "metadata": {},
   "outputs": [
    {
     "name": "stderr",
     "output_type": "stream",
     "text": [
      "Intel(R) Extension for Scikit-learn* enabled (https://github.com/intel/scikit-learn-intelex)\n"
     ]
    },
    {
     "name": "stdout",
     "output_type": "stream",
     "text": [
      "Time to calculate Using XGBoost Regression  4.3\u001b[0m seconds\n",
      "Classification Report:               precision    recall  f1-score   support\n",
      "\n",
      "           0       0.89      0.87      0.88      3998\n",
      "           1       0.88      0.89      0.88      4089\n",
      "\n",
      "    accuracy                           0.88      8087\n",
      "   macro avg       0.88      0.88      0.88      8087\n",
      "weighted avg       0.88      0.88      0.88      8087\n",
      "\n",
      "Confusion Matrix: [[3488  510]\n",
      " [ 444 3645]]\n",
      "Accuracy Score: 0.882032892296278\n",
      "Model Prediction Accuracy: 88.2%\n"
     ]
    }
   ],
   "source": [
    "from sklearnex import patch_sklearn, unpatch_sklearn\n",
    "patch_sklearn()\n",
    "from xgboost import XGBClassifier\n",
    "clf = XGBClassifier(random_state=42, seed=2, colsample_bytree=0.6, subsample=0.7)\n",
    "\n",
    "pipeline = Pipeline([\n",
    "    #('bow',CountVectorizer(analyzer=text_process)),\n",
    "    #('tfidf',TfidfTransformer()),\n",
    "    ('classifier',clf)\n",
    "])\n",
    "\n",
    "import time\n",
    "start_time = time.time()\n",
    "pipeline.fit(trn_term_doc,train[\"target\"])\n",
    "xgb_pred = pipeline.predict(test_term_doc)\n",
    "patched_time = time.time() - start_time\n",
    "print(\"Time to calculate Using XGBoost Regression {:4.1f}\\033[0m seconds\".format(patched_time))\n",
    "\n",
    "xgb_pred\n",
    "\n",
    "print('Classification Report:',classification_report(test[\"target\"],xgb_pred))\n",
    "print('Confusion Matrix:',confusion_matrix(test[\"target\"],xgb_pred))\n",
    "print('Accuracy Score:',accuracy_score(test[\"target\"],xgb_pred))\n",
    "print('Model Prediction Accuracy:',str(np.round(accuracy_score(test[\"target\"],xgb_pred)*100,2)) + '%')"
   ]
  },
  {
   "cell_type": "markdown",
   "id": "6715a092-6fda-438c-804e-4a3667313489",
   "metadata": {},
   "source": [
    "# ** Logistic Regression -- patch Sklearn extension - with intel optimization  "
   ]
  },
  {
   "cell_type": "code",
   "execution_count": 45,
   "id": "681a7e98-d208-4067-98c7-578f8fe824a8",
   "metadata": {},
   "outputs": [
    {
     "name": "stderr",
     "output_type": "stream",
     "text": [
      "Intel(R) Extension for Scikit-learn* enabled (https://github.com/intel/scikit-learn-intelex)\n"
     ]
    },
    {
     "name": "stdout",
     "output_type": "stream",
     "text": [
      "Time to calculate Using Logistic Regression  2.7\u001b[0m seconds\n"
     ]
    }
   ],
   "source": [
    "def pr(y_i, y):\n",
    "    p = x[y==y_i].sum(0)\n",
    "    return (p+1) / ((y==y_i).sum()+1)\n",
    "\n",
    "x = trn_term_doc\n",
    "test_x = test_term_doc\n",
    "\n",
    "def get_mdl(y):\n",
    "    y = y.values\n",
    "    r = np.log(pr(1,y) / pr(0,y))\n",
    "    m = LogisticRegression(C=4,max_iter=1000)\n",
    "    x_nb = x.multiply(r)\n",
    "    return m.fit(x_nb, y), r\n",
    "\n",
    "from sklearnex import patch_sklearn, unpatch_sklearn\n",
    "patch_sklearn()\n",
    "from sklearn.linear_model import LogisticRegression\n",
    "\n",
    "\n",
    "start_time = time.time()\n",
    "m,r = get_mdl(train[\"target\"])\n",
    "preds_probas = m.predict_proba(test_x.multiply(r))[:,1]\n",
    "patched_time = time.time() - start_time\n",
    "print(\"Time to calculate Using Logistic Regression {:4.1f}\\033[0m seconds\".format(patched_time))\n",
    "\n",
    "preds = [1 if prob>=0.5 else 0 for prob in preds_probas]\n",
    "\n",
    "from sklearn.metrics import confusion_matrix\n",
    "y_true = test.target.values\n",
    "y_pred = preds\n",
    "confusion_matrix(y_true,y_pred)\n",
    "\n",
    "from sklearn.metrics import accuracy_score, precision_score, recall_score, classification_report\n",
    "acc = accuracy_score(y_true,y_pred)\n",
    "precision = precision_score(y_true,y_pred)\n",
    "recall = recall_score(y_true,y_pred)"
   ]
  },
  {
   "cell_type": "code",
   "execution_count": 46,
   "id": "9f1724a8-68d8-43dc-8e6e-f0a79591ba50",
   "metadata": {},
   "outputs": [
    {
     "name": "stdout",
     "output_type": "stream",
     "text": [
      "Accuracy: 92.8156300234945; Precision:91.46572104018912; Recall:94.6197114208853\n"
     ]
    }
   ],
   "source": [
    "print(f\"Accuracy: {acc*100}; Precision:{precision*100}; Recall:{recall*100}\") #with patch"
   ]
  },
  {
   "cell_type": "markdown",
   "id": "d717f8c5-b9cd-434c-8ac0-2e0eeb95e184",
   "metadata": {},
   "source": [
    "# ** Gradient Boosting Classifier -- patch Sklearn extension - with intel optimization  "
   ]
  },
  {
   "cell_type": "code",
   "execution_count": 22,
   "id": "7ef57d01-f200-468d-adb3-e0f4ed172d04",
   "metadata": {},
   "outputs": [
    {
     "name": "stderr",
     "output_type": "stream",
     "text": [
      "Intel(R) Extension for Scikit-learn* enabled (https://github.com/intel/scikit-learn-intelex)\n"
     ]
    },
    {
     "name": "stdout",
     "output_type": "stream",
     "text": [
      "Time to calculate Using GradientBoostingClassifier  47.4\u001b[0m seconds\n",
      "Classification Report:               precision    recall  f1-score   support\n",
      "\n",
      "           0       0.83      0.80      0.81      3998\n",
      "           1       0.81      0.84      0.83      4089\n",
      "\n",
      "    accuracy                           0.82      8087\n",
      "   macro avg       0.82      0.82      0.82      8087\n",
      "weighted avg       0.82      0.82      0.82      8087\n",
      "\n",
      "Confusion Matrix: [[3190  808]\n",
      " [ 642 3447]]\n",
      "Accuracy Score: 0.8206998887102758\n",
      "Model Prediction Accuracy: 82.07000000000001%\n"
     ]
    }
   ],
   "source": [
    "#Training\n",
    "from sklearn.pipeline import Pipeline\n",
    "\n",
    "from sklearnex import patch_sklearn\n",
    "patch_sklearn()\n",
    "from sklearn.ensemble import GradientBoostingClassifier\n",
    "\n",
    "pipeline = Pipeline([\n",
    "    #('bow',CountVectorizer(analyzer=text_process)),\n",
    "    #('tfidf',TfidfTransformer()),\n",
    "    ('classifier',GradientBoostingClassifier())\n",
    "])\n",
    "\n",
    "import time\n",
    "start_time = time.time()\n",
    "pipeline.fit(trn_term_doc,train[\"target\"])\n",
    "xgb_pred = pipeline.predict(test_term_doc)\n",
    "patched_time = time.time() - start_time\n",
    "print(\"Time to calculate Using GradientBoostingClassifier  {:4.1f}\\033[0m seconds\".format(patched_time))\n",
    "\n",
    "xgb_pred\n",
    "\n",
    "print('Classification Report:',classification_report(test[\"target\"],xgb_pred))\n",
    "print('Confusion Matrix:',confusion_matrix(test[\"target\"],xgb_pred))\n",
    "print('Accuracy Score:',accuracy_score(test[\"target\"],xgb_pred))\n",
    "print('Model Prediction Accuracy:',str(np.round(accuracy_score(test[\"target\"],xgb_pred)*100,2)) + '%')"
   ]
  },
  {
   "cell_type": "code",
   "execution_count": 23,
   "id": "1018867e-b970-44fa-9ff2-3a49cfa32a13",
   "metadata": {},
   "outputs": [],
   "source": []
  },
  {
   "cell_type": "code",
   "execution_count": null,
   "id": "e9f33793-5e62-4ee2-bca3-1a21b23adf3f",
   "metadata": {},
   "outputs": [],
   "source": []
  }
 ],
 "metadata": {
  "kernelspec": {
   "display_name": "Python 3 (Intel® oneAPI 2023.0)",
   "language": "python",
   "name": "c009-intel_distribution_of_python_3_oneapi-beta05-python"
  },
  "language_info": {
   "codemirror_mode": {
    "name": "ipython",
    "version": 3
   },
   "file_extension": ".py",
   "mimetype": "text/x-python",
   "name": "python",
   "nbconvert_exporter": "python",
   "pygments_lexer": "ipython3",
   "version": "3.9.15"
  }
 },
 "nbformat": 4,
 "nbformat_minor": 5
}
