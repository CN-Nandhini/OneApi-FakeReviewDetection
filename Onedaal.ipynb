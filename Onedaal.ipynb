{
 "cells": [
  {
   "cell_type": "code",
   "execution_count": 1,
   "id": "ddf75e40-9fe2-4356-aeb1-b6079ff355b6",
   "metadata": {},
   "outputs": [
    {
     "name": "stderr",
     "output_type": "stream",
     "text": [
      "/opt/intel/inteloneapi/intelpython/latest/lib/python3.9/site-packages/scipy/__init__.py:146: UserWarning: A NumPy version >=1.16.5 and <1.23.0 is required for this version of SciPy (detected version 1.24.2\n",
      "  warnings.warn(f\"A NumPy version >={np_minversion} and <{np_maxversion}\"\n"
     ]
    }
   ],
   "source": [
    "import pandas as pd, numpy as np\n",
    "from sklearn.model_selection import train_test_split\n",
    "from sklearn.linear_model import LogisticRegression\n",
    "from sklearn.feature_extraction.text import CountVectorizer, TfidfVectorizer\n",
    "from sklearn.metrics import classification_report, confusion_matrix, accuracy_score"
   ]
  },
  {
   "cell_type": "code",
   "execution_count": 2,
   "id": "22fadacb-2d6f-48b5-b376-5d103d63d2a4",
   "metadata": {},
   "outputs": [],
   "source": [
    "#!pip install gensim==3.8.3\n",
    "#!pip install gensim\n",
    "#!pip install daal4py\n",
    "#!pip install numpy --upgrade"
   ]
  },
  {
   "cell_type": "markdown",
   "id": "97487cbf-008d-477b-b1f4-de08a1c27d8d",
   "metadata": {},
   "source": [
    "# ** Loading the Dataset ** #"
   ]
  },
  {
   "cell_type": "code",
   "execution_count": 3,
   "id": "2b46ed04-0cc0-4ff6-8147-6f623601bbed",
   "metadata": {},
   "outputs": [],
   "source": [
    "encoded_label_dict = {\"CG\" : 0, \"OR\" : 1}\n",
    "def encode_label(x):\n",
    "    return encoded_label_dict.get(x,-1)\n",
    "\n",
    "df = pd.read_csv(\"Preprocessed Fake Reviews Detection Dataset.csv\")\n",
    "\n",
    "df.drop('Unnamed: 0',axis=1,inplace=True)\n",
    "df.dropna(inplace=True)\n"
   ]
  },
  {
   "cell_type": "code",
   "execution_count": 4,
   "id": "669f11bf-be3e-43d6-ab93-fd28d6f56b85",
   "metadata": {},
   "outputs": [],
   "source": [
    "df['length'] = df['text_'].apply(len)\n",
    "df[\"target\"] = df[\"label\"].apply(lambda x: encode_label(x))\n"
   ]
  },
  {
   "cell_type": "code",
   "execution_count": 5,
   "id": "d9b03431-b80c-408c-9cb5-e3b84fe41275",
   "metadata": {},
   "outputs": [],
   "source": [
    "train, test = train_test_split(df, test_size=0.2, shuffle=True, stratify=None, random_state=35)\n"
   ]
  },
  {
   "cell_type": "code",
   "execution_count": 6,
   "id": "6a35fc47-922a-46e3-b6eb-e90295fedd21",
   "metadata": {},
   "outputs": [],
   "source": [
    "COMMENT = 'text_'\n",
    "train[COMMENT].fillna(\"unknown\", inplace=True)\n",
    "test[COMMENT].fillna(\"unknown\", inplace=True)"
   ]
  },
  {
   "cell_type": "markdown",
   "id": "ec1fe0cc-937e-413f-bac1-01a01e989ac0",
   "metadata": {},
   "source": [
    "# ** TFIDF - Feature Extraction ** #"
   ]
  },
  {
   "cell_type": "code",
   "execution_count": 7,
   "id": "05d6a3c1-f081-4d46-b910-2685f7d7d849",
   "metadata": {},
   "outputs": [
    {
     "name": "stderr",
     "output_type": "stream",
     "text": [
      "/home/u188274/.local/lib/python3.9/site-packages/sklearn/utils/_param_validation.py:558: FutureWarning: Passing an int for a boolean parameter is deprecated in version 1.2 and won't be supported anymore in version 1.4.\n",
      "  warnings.warn(\n",
      "/home/u188274/.local/lib/python3.9/site-packages/sklearn/feature_extraction/text.py:528: UserWarning: The parameter 'token_pattern' will not be used since 'tokenizer' is not None'\n",
      "  warnings.warn(\n"
     ]
    }
   ],
   "source": [
    "import re, string\n",
    "re_tok = re.compile(f'([{string.punctuation}“”¨«»®´·º½¾¿¡§£₤‘’])')\n",
    "def tokenize(s): return re_tok.sub(r' \\1 ', s).split()\n",
    "\n",
    "\n",
    "n = train.shape[0]\n",
    "vec = TfidfVectorizer(ngram_range=(1,2), tokenizer=tokenize,\n",
    "               min_df=3, max_df=0.9, strip_accents='unicode', use_idf=1,\n",
    "               smooth_idf=1, sublinear_tf=1 )\n",
    "trn_term_doc = vec.fit_transform(train[COMMENT])\n",
    "test_term_doc = vec.transform(test[COMMENT])"
   ]
  },
  {
   "cell_type": "markdown",
   "id": "05c736df-c22b-4d79-b1af-6365e6bce245",
   "metadata": {},
   "source": [
    "# ** daal4py Interface for Random Forest Classifer ** #"
   ]
  },
  {
   "cell_type": "code",
   "execution_count": 9,
   "id": "49ce5af3-16b5-48db-a444-20644150a604",
   "metadata": {},
   "outputs": [
    {
     "name": "stderr",
     "output_type": "stream",
     "text": [
      "/home/u188274/.local/lib/python3.9/site-packages/sklearn/ensemble/_forest.py:424: FutureWarning: `max_features='auto'` has been deprecated in 1.1 and will be removed in 1.3. To keep the past behaviour, explicitly set `max_features='sqrt'` or remove this parameter as it is also the default value for RandomForestClassifiers and ExtraTreesClassifiers.\n",
      "  warn(\n"
     ]
    },
    {
     "name": "stdout",
     "output_type": "stream",
     "text": [
      "Time to calculate Using Random Forest Classifier  70.9\u001b[0m seconds\n",
      "Classification Report:               precision    recall  f1-score   support\n",
      "\n",
      "           0       0.90      0.88      0.89      3998\n",
      "           1       0.88      0.90      0.89      4089\n",
      "\n",
      "    accuracy                           0.89      8087\n",
      "   macro avg       0.89      0.89      0.89      8087\n",
      "weighted avg       0.89      0.89      0.89      8087\n",
      "\n",
      "Confusion Matrix: [[3507  491]\n",
      " [ 391 3698]]\n",
      "Accuracy Score: 0.8909360702361815\n",
      "Model Prediction Accuracy: 89.09%\n"
     ]
    }
   ],
   "source": [
    "from sklearn.pipeline import Pipeline\n",
    "\n",
    "from daal4py.sklearn.ensemble import RandomForestClassifier, RandomForestRegressor\n",
    "\n",
    "pipeline = Pipeline([\n",
    "    #('bow',CountVectorizer(analyzer=text_process)),\n",
    "    #('tfidf',TfidfTransformer()),\n",
    "    ('classifier',RandomForestClassifier())\n",
    "])\n",
    "\n",
    "import time\n",
    "start_time = time.time()\n",
    "pipeline.fit(trn_term_doc,train[\"target\"])\n",
    "xgb_pred = pipeline.predict(test_term_doc)\n",
    "patched_time = time.time() - start_time\n",
    "print(\"Time to calculate Using Random Forest Classifier  {:4.1f}\\033[0m seconds\".format(patched_time))\n",
    "\n",
    "xgb_pred\n",
    "\n",
    "print('Classification Report:',classification_report(test[\"target\"],xgb_pred))\n",
    "print('Confusion Matrix:',confusion_matrix(test[\"target\"],xgb_pred))\n",
    "print('Accuracy Score:',accuracy_score(test[\"target\"],xgb_pred))\n",
    "print('Model Prediction Accuracy:',str(np.round(accuracy_score(test[\"target\"],xgb_pred)*100,2)) + '%')"
   ]
  },
  {
   "cell_type": "code",
   "execution_count": null,
   "id": "9c260180-925e-44a7-a27b-3cfd34c6dfae",
   "metadata": {},
   "outputs": [],
   "source": []
  },
  {
   "cell_type": "code",
   "execution_count": null,
   "id": "6e4edf0d-fc95-43d7-89d8-89cea8a69bd7",
   "metadata": {},
   "outputs": [],
   "source": []
  }
 ],
 "metadata": {
  "kernelspec": {
   "display_name": "Python 3 (Intel® oneAPI 2023.0)",
   "language": "python",
   "name": "c009-intel_distribution_of_python_3_oneapi-beta05-python"
  },
  "language_info": {
   "codemirror_mode": {
    "name": "ipython",
    "version": 3
   },
   "file_extension": ".py",
   "mimetype": "text/x-python",
   "name": "python",
   "nbconvert_exporter": "python",
   "pygments_lexer": "ipython3",
   "version": "3.9.15"
  }
 },
 "nbformat": 4,
 "nbformat_minor": 5
}
